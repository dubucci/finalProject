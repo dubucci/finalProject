version https://git-lfs.github.com/spec/v1
oid sha256:a72baa160b35894a42c87c2f9247558e3f0c6f70fa3e92ee3815c9d700e74e72
size 111781
